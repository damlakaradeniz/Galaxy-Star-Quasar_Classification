{
 "cells": [
  {
   "cell_type": "markdown",
   "id": "a399fa16",
   "metadata": {},
   "source": [
    "# Galaksi, Yıldız, Kuasar Sınıflaması"
   ]
  },
  {
   "cell_type": "markdown",
   "id": "3fdc047c",
   "metadata": {},
   "source": [
    "# Makine Öğrenmesi"
   ]
  },
  {
   "cell_type": "markdown",
   "id": "1f7158f2",
   "metadata": {},
   "source": [
    "Makine öğrenmesi yapay zekanın (AI) bir alt kümesidir. Bilgisayarları verilerden öğrenmeyi öğretmeye ve bunu yapmak için açıkça programlanmak yerine deneyimle geliştirmeye odaklanır. Makine öğrenmesinde algoritmalar büyük veri kümelerinde desenleri ve korelasyonları bulmak ve bu analize dayalı en iyi kararları ve tahminleri yapmak için eğitilir. Makine öğrenmesi uygulamaları kullanımla gelişir ve daha fazla veri erişimi olduğunda daha doğru hale gelir."
   ]
  },
  {
   "cell_type": "markdown",
   "id": "4a4b076c",
   "metadata": {},
   "source": [
    "## Astronomi'de Makine Öğrenmesi"
   ]
  },
  {
   "cell_type": "markdown",
   "id": "0e920c2d",
   "metadata": {},
   "source": [
    "Astronomik veri olarak tanımlanan veriler gökcisimlerinin bünyesel temel parametreleri, gözlem yoluyla elde edilen gözlemsel/deneysel nicelikleri ve sınıflandırma verileridir. \n",
    "\n",
    "Verilerin değerlendirilmesinde kullanılan makine öğrenme yöntemleri denetimli öğrenme (bir insan tarafından veriye öğretme ya da model yoluyla verinin kavranması) ve denetimsiz öğrenme (herhangi bir öğretme durumu olmadan algoritmanın kendi kendine veriyi keşfetmesi) şeklinde iki ana sınıfa ayrılır. Bu yöntemlerden ilki tanımlamaya ve betimlemeye dayanırken diğeri daha çok öngörü üzerinden değerlendirme yapar\n",
    "\n",
    "Denetimli makine öğrenmesinde en yaygın kullanılan algoritmalar: Yapay Sinir Ağları (Artificial Neural Network), Naif Bayes (Naive Bayes), Karar Ağacı (Decision Tree), Doğrusal ve taşınımsal bağlanım (Linear and Logistic regression), Kesikli Doğrusal Çözümleme (Linear Discriminant Analysis), K En Yakın Komşuluğu (K Nearest Neighbour), Rastgele Orman (Random Forests), ve Destek Vektör Makineleri (Support Vector Machines)’dir.\n",
    "\n",
    "Denetimsiz makine öğrenmesi ise kullanılma amacına göre üç grupta toplanır. Bu algoritmalar denetimli öğrenmede de benzer şekilde kümeleme yapmaya yarayan modeller ile aykırılık saptama ve gizil değişkenleri bulma üzerinedir . Bu biçimdeki en yaygın makine öğrenmesi algoritmaları şu şekildedir: Kendi Kendine Sınıflandırma/Düzenleme Haritası (Self-Classification/Organizing Map), Kalıtımsal Algoritma (Genetic Algorithm) ve Temel Bileşen Çözümlemesi (Principal Component Analysis)."
   ]
  },
  {
   "cell_type": "markdown",
   "id": "e627939a",
   "metadata": {},
   "source": [
    "# Astronomik Cisimler"
   ]
  },
  {
   "cell_type": "markdown",
   "id": "ac2dd9af",
   "metadata": {},
   "source": [
    "<span style=\"font-size:larger;\"> ***Yıldız :*** <span style=\"font-size:smaller;\"> Yıldız, ağırlıklı olarak hidrojen ve helyumdan oluşan, karanlık uzayda ışık saçan, gökyüzünde bir nokta olarak görünen plazma küresidir."
   ]
  },
  {
   "cell_type": "markdown",
   "id": "f21d4ef3",
   "metadata": {},
   "source": [
    "<span style=\"font-size:larger;\"> ***Galaksi :*** <span style=\"font-size:smaller;\"> Galaksi veya gök ada, kütle çekimi kuvvetiyle birbirine bağlı yıldızlar, yıldızlararası gaz, toz ve plazmanın meydana getirdiği yıldızlararası madde ve şimdilik pek anlaşılamamış karanlık maddeden oluşan maddesel bir sistemdir."
   ]
  },
  {
   "cell_type": "markdown",
   "id": "cf5d4d74",
   "metadata": {},
   "source": [
    "<span style=\"font-size:larger;\"> ***Kuasar (QSO) :*** <span style=\"font-size:smaller;\"> Kuasar (QSO), kütlesi milyonlarca ila on milyarlarca güneş kütlesi arasında değişen, bir gaz diski ile çevrili bir süper kütleli kara delik tarafından desteklenen son derece parlak bir aktif galaksi çekirdeğidir."
   ]
  },
  {
   "cell_type": "code",
   "execution_count": 1,
   "id": "3ad394e4",
   "metadata": {},
   "outputs": [],
   "source": [
    "import pandas as pd\n",
    "import numpy as np\n",
    "import matplotlib.pyplot as plt\n",
    "import seaborn as sns\n",
    "from sklearn.preprocessing import LabelEncoder"
   ]
  },
  {
   "cell_type": "code",
   "execution_count": 2,
   "id": "18dc9dc9",
   "metadata": {
    "scrolled": true
   },
   "outputs": [
    {
     "data": {
      "text/html": [
       "<div>\n",
       "<style scoped>\n",
       "    .dataframe tbody tr th:only-of-type {\n",
       "        vertical-align: middle;\n",
       "    }\n",
       "\n",
       "    .dataframe tbody tr th {\n",
       "        vertical-align: top;\n",
       "    }\n",
       "\n",
       "    .dataframe thead th {\n",
       "        text-align: right;\n",
       "    }\n",
       "</style>\n",
       "<table border=\"1\" class=\"dataframe\">\n",
       "  <thead>\n",
       "    <tr style=\"text-align: right;\">\n",
       "      <th></th>\n",
       "      <th>obj_ID</th>\n",
       "      <th>alpha</th>\n",
       "      <th>delta</th>\n",
       "      <th>u</th>\n",
       "      <th>g</th>\n",
       "      <th>r</th>\n",
       "      <th>i</th>\n",
       "      <th>z</th>\n",
       "      <th>run_ID</th>\n",
       "      <th>rerun_ID</th>\n",
       "      <th>cam_col</th>\n",
       "      <th>field_ID</th>\n",
       "      <th>spec_obj_ID</th>\n",
       "      <th>class</th>\n",
       "      <th>redshift</th>\n",
       "      <th>plate</th>\n",
       "      <th>MJD</th>\n",
       "      <th>fiber_ID</th>\n",
       "    </tr>\n",
       "  </thead>\n",
       "  <tbody>\n",
       "    <tr>\n",
       "      <th>0</th>\n",
       "      <td>1.237661e+18</td>\n",
       "      <td>135.689107</td>\n",
       "      <td>32.494632</td>\n",
       "      <td>23.87882</td>\n",
       "      <td>22.27530</td>\n",
       "      <td>20.39501</td>\n",
       "      <td>19.16573</td>\n",
       "      <td>18.79371</td>\n",
       "      <td>3606</td>\n",
       "      <td>301</td>\n",
       "      <td>2</td>\n",
       "      <td>79</td>\n",
       "      <td>6.543777e+18</td>\n",
       "      <td>GALAXY</td>\n",
       "      <td>0.634794</td>\n",
       "      <td>5812</td>\n",
       "      <td>56354</td>\n",
       "      <td>171</td>\n",
       "    </tr>\n",
       "    <tr>\n",
       "      <th>1</th>\n",
       "      <td>1.237665e+18</td>\n",
       "      <td>144.826101</td>\n",
       "      <td>31.274185</td>\n",
       "      <td>24.77759</td>\n",
       "      <td>22.83188</td>\n",
       "      <td>22.58444</td>\n",
       "      <td>21.16812</td>\n",
       "      <td>21.61427</td>\n",
       "      <td>4518</td>\n",
       "      <td>301</td>\n",
       "      <td>5</td>\n",
       "      <td>119</td>\n",
       "      <td>1.176014e+19</td>\n",
       "      <td>GALAXY</td>\n",
       "      <td>0.779136</td>\n",
       "      <td>10445</td>\n",
       "      <td>58158</td>\n",
       "      <td>427</td>\n",
       "    </tr>\n",
       "    <tr>\n",
       "      <th>2</th>\n",
       "      <td>1.237661e+18</td>\n",
       "      <td>142.188790</td>\n",
       "      <td>35.582444</td>\n",
       "      <td>25.26307</td>\n",
       "      <td>22.66389</td>\n",
       "      <td>20.60976</td>\n",
       "      <td>19.34857</td>\n",
       "      <td>18.94827</td>\n",
       "      <td>3606</td>\n",
       "      <td>301</td>\n",
       "      <td>2</td>\n",
       "      <td>120</td>\n",
       "      <td>5.152200e+18</td>\n",
       "      <td>GALAXY</td>\n",
       "      <td>0.644195</td>\n",
       "      <td>4576</td>\n",
       "      <td>55592</td>\n",
       "      <td>299</td>\n",
       "    </tr>\n",
       "    <tr>\n",
       "      <th>3</th>\n",
       "      <td>1.237663e+18</td>\n",
       "      <td>338.741038</td>\n",
       "      <td>-0.402828</td>\n",
       "      <td>22.13682</td>\n",
       "      <td>23.77656</td>\n",
       "      <td>21.61162</td>\n",
       "      <td>20.50454</td>\n",
       "      <td>19.25010</td>\n",
       "      <td>4192</td>\n",
       "      <td>301</td>\n",
       "      <td>3</td>\n",
       "      <td>214</td>\n",
       "      <td>1.030107e+19</td>\n",
       "      <td>GALAXY</td>\n",
       "      <td>0.932346</td>\n",
       "      <td>9149</td>\n",
       "      <td>58039</td>\n",
       "      <td>775</td>\n",
       "    </tr>\n",
       "    <tr>\n",
       "      <th>4</th>\n",
       "      <td>1.237680e+18</td>\n",
       "      <td>345.282593</td>\n",
       "      <td>21.183866</td>\n",
       "      <td>19.43718</td>\n",
       "      <td>17.58028</td>\n",
       "      <td>16.49747</td>\n",
       "      <td>15.97711</td>\n",
       "      <td>15.54461</td>\n",
       "      <td>8102</td>\n",
       "      <td>301</td>\n",
       "      <td>3</td>\n",
       "      <td>137</td>\n",
       "      <td>6.891865e+18</td>\n",
       "      <td>GALAXY</td>\n",
       "      <td>0.116123</td>\n",
       "      <td>6121</td>\n",
       "      <td>56187</td>\n",
       "      <td>842</td>\n",
       "    </tr>\n",
       "  </tbody>\n",
       "</table>\n",
       "</div>"
      ],
      "text/plain": [
       "         obj_ID       alpha      delta         u         g         r  \\\n",
       "0  1.237661e+18  135.689107  32.494632  23.87882  22.27530  20.39501   \n",
       "1  1.237665e+18  144.826101  31.274185  24.77759  22.83188  22.58444   \n",
       "2  1.237661e+18  142.188790  35.582444  25.26307  22.66389  20.60976   \n",
       "3  1.237663e+18  338.741038  -0.402828  22.13682  23.77656  21.61162   \n",
       "4  1.237680e+18  345.282593  21.183866  19.43718  17.58028  16.49747   \n",
       "\n",
       "          i         z  run_ID  rerun_ID  cam_col  field_ID   spec_obj_ID  \\\n",
       "0  19.16573  18.79371    3606       301        2        79  6.543777e+18   \n",
       "1  21.16812  21.61427    4518       301        5       119  1.176014e+19   \n",
       "2  19.34857  18.94827    3606       301        2       120  5.152200e+18   \n",
       "3  20.50454  19.25010    4192       301        3       214  1.030107e+19   \n",
       "4  15.97711  15.54461    8102       301        3       137  6.891865e+18   \n",
       "\n",
       "    class  redshift  plate    MJD  fiber_ID  \n",
       "0  GALAXY  0.634794   5812  56354       171  \n",
       "1  GALAXY  0.779136  10445  58158       427  \n",
       "2  GALAXY  0.644195   4576  55592       299  \n",
       "3  GALAXY  0.932346   9149  58039       775  \n",
       "4  GALAXY  0.116123   6121  56187       842  "
      ]
     },
     "execution_count": 2,
     "metadata": {},
     "output_type": "execute_result"
    }
   ],
   "source": [
    "df = pd.read_csv('star_classification.csv') \n",
    "df.head()"
   ]
  },
  {
   "cell_type": "markdown",
   "id": "5a2444c2",
   "metadata": {},
   "source": [
    "Bu makine öğrenmesi projesinde kullanılan veriler Kaggle’dan hazır olarak alındı. Veri setinde toplam 100.000 satır, 18 sütunluk veri vardır.\n",
    "https://www.kaggle.com/code/kubraboduroglu/star-quasar-galaxy-classification/input\n",
    "\n",
    "Bu verilerde ki parametreler ve anlamları şunlardır; alpha sağ açıklık, delta dik açıklık bu iki terim ekvatora bağlı koordinat sistemine ilişkin terimlerdir. U, g, r, i, z başlıkları ise fotometrik sistemde olan renk bantlarını gösterir. Spec_obj_ID optik spektroskopik nesneler için kullanılan benzersiz kimlik anlamına gelir. Class başlığı cismin hangi sınıfa bağlı olduğunu gösterir. Redshift dalga boyundaki artışa dayalı kırmızıya kayma değerini gösterir. Plate plaka kimliği, SDSS’deki her plakayı tanımlar. MJD değiştirilmiş Jülyen Tarihi, belirli bir SDSS verisi parçasının ne zaman alındığını belirtmek için kullanılır.\n"
   ]
  },
  {
   "cell_type": "code",
   "execution_count": 3,
   "id": "ccb119ee",
   "metadata": {
    "scrolled": false
   },
   "outputs": [
    {
     "name": "stdout",
     "output_type": "stream",
     "text": [
      "<class 'pandas.core.frame.DataFrame'>\n",
      "RangeIndex: 100000 entries, 0 to 99999\n",
      "Data columns (total 18 columns):\n",
      " #   Column       Non-Null Count   Dtype  \n",
      "---  ------       --------------   -----  \n",
      " 0   obj_ID       100000 non-null  float64\n",
      " 1   alpha        100000 non-null  float64\n",
      " 2   delta        100000 non-null  float64\n",
      " 3   u            100000 non-null  float64\n",
      " 4   g            100000 non-null  float64\n",
      " 5   r            100000 non-null  float64\n",
      " 6   i            100000 non-null  float64\n",
      " 7   z            100000 non-null  float64\n",
      " 8   run_ID       100000 non-null  int64  \n",
      " 9   rerun_ID     100000 non-null  int64  \n",
      " 10  cam_col      100000 non-null  int64  \n",
      " 11  field_ID     100000 non-null  int64  \n",
      " 12  spec_obj_ID  100000 non-null  float64\n",
      " 13  class        100000 non-null  object \n",
      " 14  redshift     100000 non-null  float64\n",
      " 15  plate        100000 non-null  int64  \n",
      " 16  MJD          100000 non-null  int64  \n",
      " 17  fiber_ID     100000 non-null  int64  \n",
      "dtypes: float64(10), int64(7), object(1)\n",
      "memory usage: 13.7+ MB\n"
     ]
    }
   ],
   "source": [
    "df.info()"
   ]
  },
  {
   "cell_type": "markdown",
   "id": "191f8165",
   "metadata": {},
   "source": [
    "Veri setinde boş satır bulunmamakta."
   ]
  },
  {
   "cell_type": "code",
   "execution_count": 4,
   "id": "21e6414a",
   "metadata": {},
   "outputs": [
    {
     "data": {
      "text/html": [
       "<div>\n",
       "<style scoped>\n",
       "    .dataframe tbody tr th:only-of-type {\n",
       "        vertical-align: middle;\n",
       "    }\n",
       "\n",
       "    .dataframe tbody tr th {\n",
       "        vertical-align: top;\n",
       "    }\n",
       "\n",
       "    .dataframe thead th {\n",
       "        text-align: right;\n",
       "    }\n",
       "</style>\n",
       "<table border=\"1\" class=\"dataframe\">\n",
       "  <thead>\n",
       "    <tr style=\"text-align: right;\">\n",
       "      <th></th>\n",
       "      <th>count</th>\n",
       "      <th>mean</th>\n",
       "      <th>std</th>\n",
       "      <th>min</th>\n",
       "      <th>25%</th>\n",
       "      <th>50%</th>\n",
       "      <th>75%</th>\n",
       "      <th>max</th>\n",
       "    </tr>\n",
       "  </thead>\n",
       "  <tbody>\n",
       "    <tr>\n",
       "      <th>obj_ID</th>\n",
       "      <td>100000.0</td>\n",
       "      <td>1.237665e+18</td>\n",
       "      <td>8.438560e+12</td>\n",
       "      <td>1.237646e+18</td>\n",
       "      <td>1.237659e+18</td>\n",
       "      <td>1.237663e+18</td>\n",
       "      <td>1.237668e+18</td>\n",
       "      <td>1.237681e+18</td>\n",
       "    </tr>\n",
       "    <tr>\n",
       "      <th>alpha</th>\n",
       "      <td>100000.0</td>\n",
       "      <td>1.776291e+02</td>\n",
       "      <td>9.650224e+01</td>\n",
       "      <td>5.527828e-03</td>\n",
       "      <td>1.275182e+02</td>\n",
       "      <td>1.809007e+02</td>\n",
       "      <td>2.338950e+02</td>\n",
       "      <td>3.599998e+02</td>\n",
       "    </tr>\n",
       "    <tr>\n",
       "      <th>delta</th>\n",
       "      <td>100000.0</td>\n",
       "      <td>2.413530e+01</td>\n",
       "      <td>1.964467e+01</td>\n",
       "      <td>-1.878533e+01</td>\n",
       "      <td>5.146771e+00</td>\n",
       "      <td>2.364592e+01</td>\n",
       "      <td>3.990155e+01</td>\n",
       "      <td>8.300052e+01</td>\n",
       "    </tr>\n",
       "    <tr>\n",
       "      <th>u</th>\n",
       "      <td>100000.0</td>\n",
       "      <td>2.198047e+01</td>\n",
       "      <td>3.176929e+01</td>\n",
       "      <td>-9.999000e+03</td>\n",
       "      <td>2.035235e+01</td>\n",
       "      <td>2.217914e+01</td>\n",
       "      <td>2.368744e+01</td>\n",
       "      <td>3.278139e+01</td>\n",
       "    </tr>\n",
       "    <tr>\n",
       "      <th>g</th>\n",
       "      <td>100000.0</td>\n",
       "      <td>2.053139e+01</td>\n",
       "      <td>3.175029e+01</td>\n",
       "      <td>-9.999000e+03</td>\n",
       "      <td>1.896523e+01</td>\n",
       "      <td>2.109983e+01</td>\n",
       "      <td>2.212377e+01</td>\n",
       "      <td>3.160224e+01</td>\n",
       "    </tr>\n",
       "    <tr>\n",
       "      <th>r</th>\n",
       "      <td>100000.0</td>\n",
       "      <td>1.964576e+01</td>\n",
       "      <td>1.854760e+00</td>\n",
       "      <td>9.822070e+00</td>\n",
       "      <td>1.813583e+01</td>\n",
       "      <td>2.012529e+01</td>\n",
       "      <td>2.104478e+01</td>\n",
       "      <td>2.957186e+01</td>\n",
       "    </tr>\n",
       "    <tr>\n",
       "      <th>i</th>\n",
       "      <td>100000.0</td>\n",
       "      <td>1.908485e+01</td>\n",
       "      <td>1.757895e+00</td>\n",
       "      <td>9.469903e+00</td>\n",
       "      <td>1.773228e+01</td>\n",
       "      <td>1.940514e+01</td>\n",
       "      <td>2.039650e+01</td>\n",
       "      <td>3.214147e+01</td>\n",
       "    </tr>\n",
       "    <tr>\n",
       "      <th>z</th>\n",
       "      <td>100000.0</td>\n",
       "      <td>1.866881e+01</td>\n",
       "      <td>3.172815e+01</td>\n",
       "      <td>-9.999000e+03</td>\n",
       "      <td>1.746068e+01</td>\n",
       "      <td>1.900460e+01</td>\n",
       "      <td>1.992112e+01</td>\n",
       "      <td>2.938374e+01</td>\n",
       "    </tr>\n",
       "    <tr>\n",
       "      <th>run_ID</th>\n",
       "      <td>100000.0</td>\n",
       "      <td>4.481366e+03</td>\n",
       "      <td>1.964765e+03</td>\n",
       "      <td>1.090000e+02</td>\n",
       "      <td>3.187000e+03</td>\n",
       "      <td>4.188000e+03</td>\n",
       "      <td>5.326000e+03</td>\n",
       "      <td>8.162000e+03</td>\n",
       "    </tr>\n",
       "    <tr>\n",
       "      <th>rerun_ID</th>\n",
       "      <td>100000.0</td>\n",
       "      <td>3.010000e+02</td>\n",
       "      <td>0.000000e+00</td>\n",
       "      <td>3.010000e+02</td>\n",
       "      <td>3.010000e+02</td>\n",
       "      <td>3.010000e+02</td>\n",
       "      <td>3.010000e+02</td>\n",
       "      <td>3.010000e+02</td>\n",
       "    </tr>\n",
       "    <tr>\n",
       "      <th>cam_col</th>\n",
       "      <td>100000.0</td>\n",
       "      <td>3.511610e+00</td>\n",
       "      <td>1.586912e+00</td>\n",
       "      <td>1.000000e+00</td>\n",
       "      <td>2.000000e+00</td>\n",
       "      <td>4.000000e+00</td>\n",
       "      <td>5.000000e+00</td>\n",
       "      <td>6.000000e+00</td>\n",
       "    </tr>\n",
       "    <tr>\n",
       "      <th>field_ID</th>\n",
       "      <td>100000.0</td>\n",
       "      <td>1.861305e+02</td>\n",
       "      <td>1.490111e+02</td>\n",
       "      <td>1.100000e+01</td>\n",
       "      <td>8.200000e+01</td>\n",
       "      <td>1.460000e+02</td>\n",
       "      <td>2.410000e+02</td>\n",
       "      <td>9.890000e+02</td>\n",
       "    </tr>\n",
       "    <tr>\n",
       "      <th>spec_obj_ID</th>\n",
       "      <td>100000.0</td>\n",
       "      <td>5.783882e+18</td>\n",
       "      <td>3.324016e+18</td>\n",
       "      <td>2.995191e+17</td>\n",
       "      <td>2.844138e+18</td>\n",
       "      <td>5.614883e+18</td>\n",
       "      <td>8.332144e+18</td>\n",
       "      <td>1.412694e+19</td>\n",
       "    </tr>\n",
       "    <tr>\n",
       "      <th>redshift</th>\n",
       "      <td>100000.0</td>\n",
       "      <td>5.766608e-01</td>\n",
       "      <td>7.307073e-01</td>\n",
       "      <td>-9.970667e-03</td>\n",
       "      <td>5.451684e-02</td>\n",
       "      <td>4.241733e-01</td>\n",
       "      <td>7.041543e-01</td>\n",
       "      <td>7.011245e+00</td>\n",
       "    </tr>\n",
       "    <tr>\n",
       "      <th>plate</th>\n",
       "      <td>100000.0</td>\n",
       "      <td>5.137010e+03</td>\n",
       "      <td>2.952303e+03</td>\n",
       "      <td>2.660000e+02</td>\n",
       "      <td>2.526000e+03</td>\n",
       "      <td>4.987000e+03</td>\n",
       "      <td>7.400250e+03</td>\n",
       "      <td>1.254700e+04</td>\n",
       "    </tr>\n",
       "    <tr>\n",
       "      <th>MJD</th>\n",
       "      <td>100000.0</td>\n",
       "      <td>5.558865e+04</td>\n",
       "      <td>1.808484e+03</td>\n",
       "      <td>5.160800e+04</td>\n",
       "      <td>5.423400e+04</td>\n",
       "      <td>5.586850e+04</td>\n",
       "      <td>5.677700e+04</td>\n",
       "      <td>5.893200e+04</td>\n",
       "    </tr>\n",
       "    <tr>\n",
       "      <th>fiber_ID</th>\n",
       "      <td>100000.0</td>\n",
       "      <td>4.493127e+02</td>\n",
       "      <td>2.724984e+02</td>\n",
       "      <td>1.000000e+00</td>\n",
       "      <td>2.210000e+02</td>\n",
       "      <td>4.330000e+02</td>\n",
       "      <td>6.450000e+02</td>\n",
       "      <td>1.000000e+03</td>\n",
       "    </tr>\n",
       "  </tbody>\n",
       "</table>\n",
       "</div>"
      ],
      "text/plain": [
       "                count          mean           std           min           25%  \\\n",
       "obj_ID       100000.0  1.237665e+18  8.438560e+12  1.237646e+18  1.237659e+18   \n",
       "alpha        100000.0  1.776291e+02  9.650224e+01  5.527828e-03  1.275182e+02   \n",
       "delta        100000.0  2.413530e+01  1.964467e+01 -1.878533e+01  5.146771e+00   \n",
       "u            100000.0  2.198047e+01  3.176929e+01 -9.999000e+03  2.035235e+01   \n",
       "g            100000.0  2.053139e+01  3.175029e+01 -9.999000e+03  1.896523e+01   \n",
       "r            100000.0  1.964576e+01  1.854760e+00  9.822070e+00  1.813583e+01   \n",
       "i            100000.0  1.908485e+01  1.757895e+00  9.469903e+00  1.773228e+01   \n",
       "z            100000.0  1.866881e+01  3.172815e+01 -9.999000e+03  1.746068e+01   \n",
       "run_ID       100000.0  4.481366e+03  1.964765e+03  1.090000e+02  3.187000e+03   \n",
       "rerun_ID     100000.0  3.010000e+02  0.000000e+00  3.010000e+02  3.010000e+02   \n",
       "cam_col      100000.0  3.511610e+00  1.586912e+00  1.000000e+00  2.000000e+00   \n",
       "field_ID     100000.0  1.861305e+02  1.490111e+02  1.100000e+01  8.200000e+01   \n",
       "spec_obj_ID  100000.0  5.783882e+18  3.324016e+18  2.995191e+17  2.844138e+18   \n",
       "redshift     100000.0  5.766608e-01  7.307073e-01 -9.970667e-03  5.451684e-02   \n",
       "plate        100000.0  5.137010e+03  2.952303e+03  2.660000e+02  2.526000e+03   \n",
       "MJD          100000.0  5.558865e+04  1.808484e+03  5.160800e+04  5.423400e+04   \n",
       "fiber_ID     100000.0  4.493127e+02  2.724984e+02  1.000000e+00  2.210000e+02   \n",
       "\n",
       "                      50%           75%           max  \n",
       "obj_ID       1.237663e+18  1.237668e+18  1.237681e+18  \n",
       "alpha        1.809007e+02  2.338950e+02  3.599998e+02  \n",
       "delta        2.364592e+01  3.990155e+01  8.300052e+01  \n",
       "u            2.217914e+01  2.368744e+01  3.278139e+01  \n",
       "g            2.109983e+01  2.212377e+01  3.160224e+01  \n",
       "r            2.012529e+01  2.104478e+01  2.957186e+01  \n",
       "i            1.940514e+01  2.039650e+01  3.214147e+01  \n",
       "z            1.900460e+01  1.992112e+01  2.938374e+01  \n",
       "run_ID       4.188000e+03  5.326000e+03  8.162000e+03  \n",
       "rerun_ID     3.010000e+02  3.010000e+02  3.010000e+02  \n",
       "cam_col      4.000000e+00  5.000000e+00  6.000000e+00  \n",
       "field_ID     1.460000e+02  2.410000e+02  9.890000e+02  \n",
       "spec_obj_ID  5.614883e+18  8.332144e+18  1.412694e+19  \n",
       "redshift     4.241733e-01  7.041543e-01  7.011245e+00  \n",
       "plate        4.987000e+03  7.400250e+03  1.254700e+04  \n",
       "MJD          5.586850e+04  5.677700e+04  5.893200e+04  \n",
       "fiber_ID     4.330000e+02  6.450000e+02  1.000000e+03  "
      ]
     },
     "execution_count": 4,
     "metadata": {},
     "output_type": "execute_result"
    }
   ],
   "source": [
    "df.describe().T"
   ]
  },
  {
   "cell_type": "markdown",
   "id": "af0f1c89",
   "metadata": {},
   "source": [
    "<span style=\"font-size:larger;\"> ***df.describe() :*** <span style=\"font-size:smaller;\">  Bir veri çerçevesinin istatistiksel özetini oluşturur. Bu özet, veri çerçevesindeki sayısal sütunlar için temel istatistik değerlerini içerir: count (sayı), mean (ortalama), std (standart sapma), min (minimum), 25% (ilk çeyrek), 50% (medyan), 75% (üçüncü çeyrek) ve max (maksimum)."
   ]
  },
  {
   "cell_type": "code",
   "execution_count": 5,
   "id": "704b09e9",
   "metadata": {},
   "outputs": [
    {
     "data": {
      "text/plain": [
       "class\n",
       "GALAXY    59445\n",
       "STAR      21594\n",
       "QSO       18961\n",
       "Name: count, dtype: int64"
      ]
     },
     "execution_count": 5,
     "metadata": {},
     "output_type": "execute_result"
    }
   ],
   "source": [
    "df[\"class\"].value_counts()"
   ]
  },
  {
   "cell_type": "markdown",
   "id": "801b971c",
   "metadata": {},
   "source": [
    "Class başlığındaki dağılımı görmek istedim ve aşağıdaki grafikte görselleştirdim."
   ]
  },
  {
   "cell_type": "code",
   "execution_count": 6,
   "id": "d11d727e",
   "metadata": {
    "scrolled": true
   },
   "outputs": [
    {
     "data": {
      "image/png": "[encoded data removed]",
      "text/plain": [
       "<Figure size 432x288 with 1 Axes>"
      ]
     },
     "metadata": {
      "needs_background": "light"
     },
     "output_type": "display_data"
    }
   ],
   "source": [
    "sns.countplot(x = df[\"class\"], palette=\"Set1\")\n",
    "plt.title(\"Class \",fontsize=10)\n",
    "plt.show()"
   ]
  },
  {
   "cell_type": "code",
   "execution_count": 7,
   "id": "7a056b47",
   "metadata": {},
   "outputs": [
    {
     "name": "stdout",
     "output_type": "stream",
     "text": [
      "\n",
      "\\Galaxy - 0, Star - 1 , QSO - 2\n",
      " class\n",
      "GALAXY    59445\n",
      "STAR      21594\n",
      "QSO       18961\n",
      "Name: count, dtype: int64\n"
     ]
    },
    {
     "data": {
      "image/png": "[encoded data removed]",
      "text/plain": [
       "<Figure size 432x288 with 1 Axes>"
      ]
     },
     "metadata": {},
     "output_type": "display_data"
    }
   ],
   "source": [
    "print (\"\\n\\Galaxy - 0, Star - 1 , QSO - 2\\n\", df[\"class\"].value_counts());\n",
    "df[\"class\"].value_counts().plot.pie(explode=[0.1,0.1,0.1],autopct='%1.1f%%',shadow=True)\n",
    "plt.title('Number of patients');"
   ]
  },
  {
   "cell_type": "code",
   "execution_count": 8,
   "id": "aaf244dc",
   "metadata": {
    "scrolled": false
   },
   "outputs": [
    {
     "data": {
      "image/png": "[encoded data removed]",
      "text/plain": [
       "<Figure size 1440x1080 with 20 Axes>"
      ]
     },
     "metadata": {
      "needs_background": "light"
     },
     "output_type": "display_data"
    }
   ],
   "source": [
    "df.hist(bins=50,figsize=(20,15), color='purple')\n",
    "plt.show()"
   ]
  },
  {
   "cell_type": "markdown",
   "id": "f9f3e2e5",
   "metadata": {},
   "source": [
    "Histogramlar, veri setindeki her bir değişkenin dağılımını ve yoğunluklarını görsel olarak gösterir. Bu dağılımlar, verileri daha iyi anlamaya ve önemli özellikleri tanımlamaya yardımcı olabilir."
   ]
  },
  {
   "cell_type": "code",
   "execution_count": 9,
   "id": "fa4209d7",
   "metadata": {},
   "outputs": [],
   "source": [
    "df = df.drop(['obj_ID','run_ID','rerun_ID','cam_col','field_ID','fiber_ID'], axis = 1) "
   ]
  },
  {
   "cell_type": "markdown",
   "id": "3d1eec77",
   "metadata": {},
   "source": [
    "Burada ihtiyacım olmayan gereksiz parametreleri siliyorum. Yani ID'ler makine öğrenmesi için bir katkı sağlamıyor. Kolon sayısı da bununla birlikte 12'ye düşüyor."
   ]
  },
  {
   "cell_type": "code",
   "execution_count": 10,
   "id": "8e3a8c50",
   "metadata": {},
   "outputs": [],
   "source": [
    "df['class'] = df['class'].map({'GALAXY': 0, 'STAR': 1, 'QSO': 2})"
   ]
  },
  {
   "cell_type": "markdown",
   "id": "f5099aca",
   "metadata": {},
   "source": [
    "Bu kod, 'class' sütunundaki kategorik etiketleri sayısal değerlere dönüştürmek için kullanılır.  'GALAXY' etiketine 0, 'STAR' etiketine 1 ve 'QSO' etiketine 2 atar."
   ]
  },
  {
   "cell_type": "code",
   "execution_count": 11,
   "id": "20fe7cee",
   "metadata": {
    "scrolled": false
   },
   "outputs": [
    {
     "data": {
      "text/html": [
       "<style type=\"text/css\">\n",
       "#T_87f9c_row0_col0, #T_87f9c_row1_col1, #T_87f9c_row2_col2, #T_87f9c_row2_col3, #T_87f9c_row2_col6, #T_87f9c_row3_col2, #T_87f9c_row3_col3, #T_87f9c_row3_col6, #T_87f9c_row4_col4, #T_87f9c_row5_col5, #T_87f9c_row6_col2, #T_87f9c_row6_col3, #T_87f9c_row6_col6, #T_87f9c_row7_col7, #T_87f9c_row7_col10, #T_87f9c_row8_col8, #T_87f9c_row9_col9, #T_87f9c_row10_col7, #T_87f9c_row10_col10, #T_87f9c_row11_col11 {\n",
       "  background-color: #b40426;\n",
       "  color: #f1f1f1;\n",
       "}\n",
       "#T_87f9c_row0_col1, #T_87f9c_row1_col0 {\n",
       "  background-color: #6c8ff1;\n",
       "  color: #f1f1f1;\n",
       "}\n",
       "#T_87f9c_row0_col2, #T_87f9c_row0_col3, #T_87f9c_row0_col6, #T_87f9c_row0_col7, #T_87f9c_row0_col10, #T_87f9c_row2_col0, #T_87f9c_row3_col0, #T_87f9c_row6_col0, #T_87f9c_row7_col0, #T_87f9c_row10_col0 {\n",
       "  background-color: #4055c8;\n",
       "  color: #f1f1f1;\n",
       "}\n",
       "#T_87f9c_row0_col4, #T_87f9c_row0_col5, #T_87f9c_row4_col0, #T_87f9c_row5_col0 {\n",
       "  background-color: #3b4cc0;\n",
       "  color: #f1f1f1;\n",
       "}\n",
       "#T_87f9c_row0_col8, #T_87f9c_row8_col0 {\n",
       "  background-color: #4358cb;\n",
       "  color: #f1f1f1;\n",
       "}\n",
       "#T_87f9c_row0_col9, #T_87f9c_row1_col2, #T_87f9c_row1_col3, #T_87f9c_row1_col6, #T_87f9c_row2_col1, #T_87f9c_row3_col1, #T_87f9c_row6_col1, #T_87f9c_row9_col0 {\n",
       "  background-color: #4257c9;\n",
       "  color: #f1f1f1;\n",
       "}\n",
       "#T_87f9c_row0_col11, #T_87f9c_row6_col8, #T_87f9c_row8_col6, #T_87f9c_row11_col0 {\n",
       "  background-color: #465ecf;\n",
       "  color: #f1f1f1;\n",
       "}\n",
       "#T_87f9c_row1_col4, #T_87f9c_row1_col5, #T_87f9c_row3_col8, #T_87f9c_row4_col1, #T_87f9c_row5_col1, #T_87f9c_row8_col3 {\n",
       "  background-color: #3f53c6;\n",
       "  color: #f1f1f1;\n",
       "}\n",
       "#T_87f9c_row1_col7, #T_87f9c_row1_col10, #T_87f9c_row7_col1, #T_87f9c_row10_col1 {\n",
       "  background-color: #6384eb;\n",
       "  color: #f1f1f1;\n",
       "}\n",
       "#T_87f9c_row1_col8, #T_87f9c_row8_col1 {\n",
       "  background-color: #536edd;\n",
       "  color: #f1f1f1;\n",
       "}\n",
       "#T_87f9c_row1_col9, #T_87f9c_row2_col7, #T_87f9c_row2_col10, #T_87f9c_row2_col11, #T_87f9c_row6_col9, #T_87f9c_row7_col2, #T_87f9c_row9_col1, #T_87f9c_row9_col6, #T_87f9c_row10_col2, #T_87f9c_row11_col2 {\n",
       "  background-color: #4a63d3;\n",
       "  color: #f1f1f1;\n",
       "}\n",
       "#T_87f9c_row1_col11, #T_87f9c_row11_col1 {\n",
       "  background-color: #6282ea;\n",
       "  color: #f1f1f1;\n",
       "}\n",
       "#T_87f9c_row2_col4, #T_87f9c_row3_col5, #T_87f9c_row4_col2, #T_87f9c_row4_col6, #T_87f9c_row5_col3, #T_87f9c_row5_col6, #T_87f9c_row6_col4, #T_87f9c_row6_col5 {\n",
       "  background-color: #516ddb;\n",
       "  color: #f1f1f1;\n",
       "}\n",
       "#T_87f9c_row2_col5, #T_87f9c_row5_col2 {\n",
       "  background-color: #4f69d9;\n",
       "  color: #f1f1f1;\n",
       "}\n",
       "#T_87f9c_row2_col8, #T_87f9c_row8_col2 {\n",
       "  background-color: #3c4ec2;\n",
       "  color: #f1f1f1;\n",
       "}\n",
       "#T_87f9c_row2_col9, #T_87f9c_row9_col2 {\n",
       "  background-color: #455cce;\n",
       "  color: #f1f1f1;\n",
       "}\n",
       "#T_87f9c_row3_col4, #T_87f9c_row4_col3 {\n",
       "  background-color: #5470de;\n",
       "  color: #f1f1f1;\n",
       "}\n",
       "#T_87f9c_row3_col7, #T_87f9c_row3_col10, #T_87f9c_row3_col11, #T_87f9c_row6_col7, #T_87f9c_row6_col10, #T_87f9c_row6_col11, #T_87f9c_row7_col3, #T_87f9c_row7_col6, #T_87f9c_row10_col3, #T_87f9c_row10_col6, #T_87f9c_row11_col3, #T_87f9c_row11_col6 {\n",
       "  background-color: #4c66d6;\n",
       "  color: #f1f1f1;\n",
       "}\n",
       "#T_87f9c_row3_col9, #T_87f9c_row9_col3 {\n",
       "  background-color: #485fd1;\n",
       "  color: #f1f1f1;\n",
       "}\n",
       "#T_87f9c_row4_col5, #T_87f9c_row5_col4 {\n",
       "  background-color: #c12b30;\n",
       "  color: #f1f1f1;\n",
       "}\n",
       "#T_87f9c_row4_col7, #T_87f9c_row4_col10, #T_87f9c_row7_col4, #T_87f9c_row10_col4 {\n",
       "  background-color: #f7b99e;\n",
       "  color: #000000;\n",
       "}\n",
       "#T_87f9c_row4_col8, #T_87f9c_row8_col4 {\n",
       "  background-color: #7093f3;\n",
       "  color: #f1f1f1;\n",
       "}\n",
       "#T_87f9c_row4_col9, #T_87f9c_row9_col4 {\n",
       "  background-color: #cedaeb;\n",
       "  color: #000000;\n",
       "}\n",
       "#T_87f9c_row4_col11, #T_87f9c_row11_col4 {\n",
       "  background-color: #f7b497;\n",
       "  color: #000000;\n",
       "}\n",
       "#T_87f9c_row5_col7, #T_87f9c_row5_col10, #T_87f9c_row7_col5, #T_87f9c_row10_col5 {\n",
       "  background-color: #f7b79b;\n",
       "  color: #000000;\n",
       "}\n",
       "#T_87f9c_row5_col8, #T_87f9c_row8_col5 {\n",
       "  background-color: #9fbfff;\n",
       "  color: #000000;\n",
       "}\n",
       "#T_87f9c_row5_col9, #T_87f9c_row9_col5 {\n",
       "  background-color: #dedcdb;\n",
       "  color: #000000;\n",
       "}\n",
       "#T_87f9c_row5_col11, #T_87f9c_row11_col5 {\n",
       "  background-color: #f7b396;\n",
       "  color: #000000;\n",
       "}\n",
       "#T_87f9c_row7_col8, #T_87f9c_row8_col7, #T_87f9c_row8_col10, #T_87f9c_row10_col8 {\n",
       "  background-color: #86a9fc;\n",
       "  color: #f1f1f1;\n",
       "}\n",
       "#T_87f9c_row7_col9, #T_87f9c_row9_col7, #T_87f9c_row9_col10, #T_87f9c_row10_col9 {\n",
       "  background-color: #c1d4f4;\n",
       "  color: #000000;\n",
       "}\n",
       "#T_87f9c_row7_col11, #T_87f9c_row10_col11, #T_87f9c_row11_col7, #T_87f9c_row11_col10 {\n",
       "  background-color: #be242e;\n",
       "  color: #f1f1f1;\n",
       "}\n",
       "#T_87f9c_row8_col9, #T_87f9c_row9_col8 {\n",
       "  background-color: #e9d5cb;\n",
       "  color: #000000;\n",
       "}\n",
       "#T_87f9c_row8_col11, #T_87f9c_row11_col8 {\n",
       "  background-color: #84a7fc;\n",
       "  color: #f1f1f1;\n",
       "}\n",
       "#T_87f9c_row9_col11, #T_87f9c_row11_col9 {\n",
       "  background-color: #c0d4f5;\n",
       "  color: #000000;\n",
       "}\n",
       "</style>\n",
       "<table id=\"T_87f9c\">\n",
       "  <thead>\n",
       "    <tr>\n",
       "      <th class=\"blank level0\" >&nbsp;</th>\n",
       "      <th id=\"T_87f9c_level0_col0\" class=\"col_heading level0 col0\" >alpha</th>\n",
       "      <th id=\"T_87f9c_level0_col1\" class=\"col_heading level0 col1\" >delta</th>\n",
       "      <th id=\"T_87f9c_level0_col2\" class=\"col_heading level0 col2\" >u</th>\n",
       "      <th id=\"T_87f9c_level0_col3\" class=\"col_heading level0 col3\" >g</th>\n",
       "      <th id=\"T_87f9c_level0_col4\" class=\"col_heading level0 col4\" >r</th>\n",
       "      <th id=\"T_87f9c_level0_col5\" class=\"col_heading level0 col5\" >i</th>\n",
       "      <th id=\"T_87f9c_level0_col6\" class=\"col_heading level0 col6\" >z</th>\n",
       "      <th id=\"T_87f9c_level0_col7\" class=\"col_heading level0 col7\" >spec_obj_ID</th>\n",
       "      <th id=\"T_87f9c_level0_col8\" class=\"col_heading level0 col8\" >class</th>\n",
       "      <th id=\"T_87f9c_level0_col9\" class=\"col_heading level0 col9\" >redshift</th>\n",
       "      <th id=\"T_87f9c_level0_col10\" class=\"col_heading level0 col10\" >plate</th>\n",
       "      <th id=\"T_87f9c_level0_col11\" class=\"col_heading level0 col11\" >MJD</th>\n",
       "    </tr>\n",
       "  </thead>\n",
       "  <tbody>\n",
       "    <tr>\n",
       "      <th id=\"T_87f9c_level0_row0\" class=\"row_heading level0 row0\" >alpha</th>\n",
       "      <td id=\"T_87f9c_row0_col0\" class=\"data row0 col0\" >1.000000</td>\n",
       "      <td id=\"T_87f9c_row0_col1\" class=\"data row0 col1\" >0.138691</td>\n",
       "      <td id=\"T_87f9c_row0_col2\" class=\"data row0 col2\" >-0.001532</td>\n",
       "      <td id=\"T_87f9c_row0_col3\" class=\"data row0 col3\" >-0.002423</td>\n",
       "      <td id=\"T_87f9c_row0_col4\" class=\"data row0 col4\" >-0.022083</td>\n",
       "      <td id=\"T_87f9c_row0_col5\" class=\"data row0 col5\" >-0.023580</td>\n",
       "      <td id=\"T_87f9c_row0_col6\" class=\"data row0 col6\" >-0.002918</td>\n",
       "      <td id=\"T_87f9c_row0_col7\" class=\"data row0 col7\" >-0.002553</td>\n",
       "      <td id=\"T_87f9c_row0_col8\" class=\"data row0 col8\" >0.004552</td>\n",
       "      <td id=\"T_87f9c_row0_col9\" class=\"data row0 col9\" >0.001667</td>\n",
       "      <td id=\"T_87f9c_row0_col10\" class=\"data row0 col10\" >-0.002554</td>\n",
       "      <td id=\"T_87f9c_row0_col11\" class=\"data row0 col11\" >0.019943</td>\n",
       "    </tr>\n",
       "    <tr>\n",
       "      <th id=\"T_87f9c_level0_row1\" class=\"row_heading level0 row1\" >delta</th>\n",
       "      <td id=\"T_87f9c_row1_col0\" class=\"data row1 col0\" >0.138691</td>\n",
       "      <td id=\"T_87f9c_row1_col1\" class=\"data row1 col1\" >1.000000</td>\n",
       "      <td id=\"T_87f9c_row1_col2\" class=\"data row1 col2\" >0.002074</td>\n",
       "      <td id=\"T_87f9c_row1_col3\" class=\"data row1 col3\" >0.003523</td>\n",
       "      <td id=\"T_87f9c_row1_col4\" class=\"data row1 col4\" >-0.006835</td>\n",
       "      <td id=\"T_87f9c_row1_col5\" class=\"data row1 col5\" >-0.004480</td>\n",
       "      <td id=\"T_87f9c_row1_col6\" class=\"data row1 col6\" >0.003630</td>\n",
       "      <td id=\"T_87f9c_row1_col7\" class=\"data row1 col7\" >0.112329</td>\n",
       "      <td id=\"T_87f9c_row1_col8\" class=\"data row1 col8\" >0.056643</td>\n",
       "      <td id=\"T_87f9c_row1_col9\" class=\"data row1 col9\" >0.031638</td>\n",
       "      <td id=\"T_87f9c_row1_col10\" class=\"data row1 col10\" >0.112329</td>\n",
       "      <td id=\"T_87f9c_row1_col11\" class=\"data row1 col11\" >0.107333</td>\n",
       "    </tr>\n",
       "    <tr>\n",
       "      <th id=\"T_87f9c_level0_row2\" class=\"row_heading level0 row2\" >u</th>\n",
       "      <td id=\"T_87f9c_row2_col0\" class=\"data row2 col0\" >-0.001532</td>\n",
       "      <td id=\"T_87f9c_row2_col1\" class=\"data row2 col1\" >0.002074</td>\n",
       "      <td id=\"T_87f9c_row2_col2\" class=\"data row2 col2\" >1.000000</td>\n",
       "      <td id=\"T_87f9c_row2_col3\" class=\"data row2 col3\" >0.999311</td>\n",
       "      <td id=\"T_87f9c_row2_col4\" class=\"data row2 col4\" >0.054149</td>\n",
       "      <td id=\"T_87f9c_row2_col5\" class=\"data row2 col5\" >0.045730</td>\n",
       "      <td id=\"T_87f9c_row2_col6\" class=\"data row2 col6\" >0.998093</td>\n",
       "      <td id=\"T_87f9c_row2_col7\" class=\"data row2 col7\" >0.029997</td>\n",
       "      <td id=\"T_87f9c_row2_col8\" class=\"data row2 col8\" >-0.017701</td>\n",
       "      <td id=\"T_87f9c_row2_col9\" class=\"data row2 col9\" >0.014309</td>\n",
       "      <td id=\"T_87f9c_row2_col10\" class=\"data row2 col10\" >0.029997</td>\n",
       "      <td id=\"T_87f9c_row2_col11\" class=\"data row2 col11\" >0.031997</td>\n",
       "    </tr>\n",
       "    <tr>\n",
       "      <th id=\"T_87f9c_level0_row3\" class=\"row_heading level0 row3\" >g</th>\n",
       "      <td id=\"T_87f9c_row3_col0\" class=\"data row3 col0\" >-0.002423</td>\n",
       "      <td id=\"T_87f9c_row3_col1\" class=\"data row3 col1\" >0.003523</td>\n",
       "      <td id=\"T_87f9c_row3_col2\" class=\"data row3 col2\" >0.999311</td>\n",
       "      <td id=\"T_87f9c_row3_col3\" class=\"data row3 col3\" >1.000000</td>\n",
       "      <td id=\"T_87f9c_row3_col4\" class=\"data row3 col4\" >0.062387</td>\n",
       "      <td id=\"T_87f9c_row3_col5\" class=\"data row3 col5\" >0.056271</td>\n",
       "      <td id=\"T_87f9c_row3_col6\" class=\"data row3 col6\" >0.999161</td>\n",
       "      <td id=\"T_87f9c_row3_col7\" class=\"data row3 col7\" >0.039443</td>\n",
       "      <td id=\"T_87f9c_row3_col8\" class=\"data row3 col8\" >-0.005915</td>\n",
       "      <td id=\"T_87f9c_row3_col9\" class=\"data row3 col9\" >0.022954</td>\n",
       "      <td id=\"T_87f9c_row3_col10\" class=\"data row3 col10\" >0.039443</td>\n",
       "      <td id=\"T_87f9c_row3_col11\" class=\"data row3 col11\" >0.040274</td>\n",
       "    </tr>\n",
       "    <tr>\n",
       "      <th id=\"T_87f9c_level0_row4\" class=\"row_heading level0 row4\" >r</th>\n",
       "      <td id=\"T_87f9c_row4_col0\" class=\"data row4 col0\" >-0.022083</td>\n",
       "      <td id=\"T_87f9c_row4_col1\" class=\"data row4 col1\" >-0.006835</td>\n",
       "      <td id=\"T_87f9c_row4_col2\" class=\"data row4 col2\" >0.054149</td>\n",
       "      <td id=\"T_87f9c_row4_col3\" class=\"data row4 col3\" >0.062387</td>\n",
       "      <td id=\"T_87f9c_row4_col4\" class=\"data row4 col4\" >1.000000</td>\n",
       "      <td id=\"T_87f9c_row4_col5\" class=\"data row4 col5\" >0.962868</td>\n",
       "      <td id=\"T_87f9c_row4_col6\" class=\"data row4 col6\" >0.053677</td>\n",
       "      <td id=\"T_87f9c_row4_col7\" class=\"data row4 col7\" >0.655245</td>\n",
       "      <td id=\"T_87f9c_row4_col8\" class=\"data row4 col8\" >0.150691</td>\n",
       "      <td id=\"T_87f9c_row4_col9\" class=\"data row4 col9\" >0.433241</td>\n",
       "      <td id=\"T_87f9c_row4_col10\" class=\"data row4 col10\" >0.655243</td>\n",
       "      <td id=\"T_87f9c_row4_col11\" class=\"data row4 col11\" >0.671180</td>\n",
       "    </tr>\n",
       "    <tr>\n",
       "      <th id=\"T_87f9c_level0_row5\" class=\"row_heading level0 row5\" >i</th>\n",
       "      <td id=\"T_87f9c_row5_col0\" class=\"data row5 col0\" >-0.023580</td>\n",
       "      <td id=\"T_87f9c_row5_col1\" class=\"data row5 col1\" >-0.004480</td>\n",
       "      <td id=\"T_87f9c_row5_col2\" class=\"data row5 col2\" >0.045730</td>\n",
       "      <td id=\"T_87f9c_row5_col3\" class=\"data row5 col3\" >0.056271</td>\n",
       "      <td id=\"T_87f9c_row5_col4\" class=\"data row5 col4\" >0.962868</td>\n",
       "      <td id=\"T_87f9c_row5_col5\" class=\"data row5 col5\" >1.000000</td>\n",
       "      <td id=\"T_87f9c_row5_col6\" class=\"data row5 col6\" >0.055994</td>\n",
       "      <td id=\"T_87f9c_row5_col7\" class=\"data row5 col7\" >0.661641</td>\n",
       "      <td id=\"T_87f9c_row5_col8\" class=\"data row5 col8\" >0.284396</td>\n",
       "      <td id=\"T_87f9c_row5_col9\" class=\"data row5 col9\" >0.492383</td>\n",
       "      <td id=\"T_87f9c_row5_col10\" class=\"data row5 col10\" >0.661640</td>\n",
       "      <td id=\"T_87f9c_row5_col11\" class=\"data row5 col11\" >0.672523</td>\n",
       "    </tr>\n",
       "    <tr>\n",
       "      <th id=\"T_87f9c_level0_row6\" class=\"row_heading level0 row6\" >z</th>\n",
       "      <td id=\"T_87f9c_row6_col0\" class=\"data row6 col0\" >-0.002918</td>\n",
       "      <td id=\"T_87f9c_row6_col1\" class=\"data row6 col1\" >0.003630</td>\n",
       "      <td id=\"T_87f9c_row6_col2\" class=\"data row6 col2\" >0.998093</td>\n",
       "      <td id=\"T_87f9c_row6_col3\" class=\"data row6 col3\" >0.999161</td>\n",
       "      <td id=\"T_87f9c_row6_col4\" class=\"data row6 col4\" >0.053677</td>\n",
       "      <td id=\"T_87f9c_row6_col5\" class=\"data row6 col5\" >0.055994</td>\n",
       "      <td id=\"T_87f9c_row6_col6\" class=\"data row6 col6\" >1.000000</td>\n",
       "      <td id=\"T_87f9c_row6_col7\" class=\"data row6 col7\" >0.037813</td>\n",
       "      <td id=\"T_87f9c_row6_col8\" class=\"data row6 col8\" >0.017352</td>\n",
       "      <td id=\"T_87f9c_row6_col9\" class=\"data row6 col9\" >0.030380</td>\n",
       "      <td id=\"T_87f9c_row6_col10\" class=\"data row6 col10\" >0.037813</td>\n",
       "      <td id=\"T_87f9c_row6_col11\" class=\"data row6 col11\" >0.037469</td>\n",
       "    </tr>\n",
       "    <tr>\n",
       "      <th id=\"T_87f9c_level0_row7\" class=\"row_heading level0 row7\" >spec_obj_ID</th>\n",
       "      <td id=\"T_87f9c_row7_col0\" class=\"data row7 col0\" >-0.002553</td>\n",
       "      <td id=\"T_87f9c_row7_col1\" class=\"data row7 col1\" >0.112329</td>\n",
       "      <td id=\"T_87f9c_row7_col2\" class=\"data row7 col2\" >0.029997</td>\n",
       "      <td id=\"T_87f9c_row7_col3\" class=\"data row7 col3\" >0.039443</td>\n",
       "      <td id=\"T_87f9c_row7_col4\" class=\"data row7 col4\" >0.655245</td>\n",
       "      <td id=\"T_87f9c_row7_col5\" class=\"data row7 col5\" >0.661641</td>\n",
       "      <td id=\"T_87f9c_row7_col6\" class=\"data row7 col6\" >0.037813</td>\n",
       "      <td id=\"T_87f9c_row7_col7\" class=\"data row7 col7\" >1.000000</td>\n",
       "      <td id=\"T_87f9c_row7_col8\" class=\"data row7 col8\" >0.215722</td>\n",
       "      <td id=\"T_87f9c_row7_col9\" class=\"data row7 col9\" >0.388642</td>\n",
       "      <td id=\"T_87f9c_row7_col10\" class=\"data row7 col10\" >1.000000</td>\n",
       "      <td id=\"T_87f9c_row7_col11\" class=\"data row7 col11\" >0.970167</td>\n",
       "    </tr>\n",
       "    <tr>\n",
       "      <th id=\"T_87f9c_level0_row8\" class=\"row_heading level0 row8\" >class</th>\n",
       "      <td id=\"T_87f9c_row8_col0\" class=\"data row8 col0\" >0.004552</td>\n",
       "      <td id=\"T_87f9c_row8_col1\" class=\"data row8 col1\" >0.056643</td>\n",
       "      <td id=\"T_87f9c_row8_col2\" class=\"data row8 col2\" >-0.017701</td>\n",
       "      <td id=\"T_87f9c_row8_col3\" class=\"data row8 col3\" >-0.005915</td>\n",
       "      <td id=\"T_87f9c_row8_col4\" class=\"data row8 col4\" >0.150691</td>\n",
       "      <td id=\"T_87f9c_row8_col5\" class=\"data row8 col5\" >0.284396</td>\n",
       "      <td id=\"T_87f9c_row8_col6\" class=\"data row8 col6\" >0.017352</td>\n",
       "      <td id=\"T_87f9c_row8_col7\" class=\"data row8 col7\" >0.215722</td>\n",
       "      <td id=\"T_87f9c_row8_col8\" class=\"data row8 col8\" >1.000000</td>\n",
       "      <td id=\"T_87f9c_row8_col9\" class=\"data row8 col9\" >0.536822</td>\n",
       "      <td id=\"T_87f9c_row8_col10\" class=\"data row8 col10\" >0.215722</td>\n",
       "      <td id=\"T_87f9c_row8_col11\" class=\"data row8 col11\" >0.207262</td>\n",
       "    </tr>\n",
       "    <tr>\n",
       "      <th id=\"T_87f9c_level0_row9\" class=\"row_heading level0 row9\" >redshift</th>\n",
       "      <td id=\"T_87f9c_row9_col0\" class=\"data row9 col0\" >0.001667</td>\n",
       "      <td id=\"T_87f9c_row9_col1\" class=\"data row9 col1\" >0.031638</td>\n",
       "      <td id=\"T_87f9c_row9_col2\" class=\"data row9 col2\" >0.014309</td>\n",
       "      <td id=\"T_87f9c_row9_col3\" class=\"data row9 col3\" >0.022954</td>\n",
       "      <td id=\"T_87f9c_row9_col4\" class=\"data row9 col4\" >0.433241</td>\n",
       "      <td id=\"T_87f9c_row9_col5\" class=\"data row9 col5\" >0.492383</td>\n",
       "      <td id=\"T_87f9c_row9_col6\" class=\"data row9 col6\" >0.030380</td>\n",
       "      <td id=\"T_87f9c_row9_col7\" class=\"data row9 col7\" >0.388642</td>\n",
       "      <td id=\"T_87f9c_row9_col8\" class=\"data row9 col8\" >0.536822</td>\n",
       "      <td id=\"T_87f9c_row9_col9\" class=\"data row9 col9\" >1.000000</td>\n",
       "      <td id=\"T_87f9c_row9_col10\" class=\"data row9 col10\" >0.388641</td>\n",
       "      <td id=\"T_87f9c_row9_col11\" class=\"data row9 col11\" >0.387109</td>\n",
       "    </tr>\n",
       "    <tr>\n",
       "      <th id=\"T_87f9c_level0_row10\" class=\"row_heading level0 row10\" >plate</th>\n",
       "      <td id=\"T_87f9c_row10_col0\" class=\"data row10 col0\" >-0.002554</td>\n",
       "      <td id=\"T_87f9c_row10_col1\" class=\"data row10 col1\" >0.112329</td>\n",
       "      <td id=\"T_87f9c_row10_col2\" class=\"data row10 col2\" >0.029997</td>\n",
       "      <td id=\"T_87f9c_row10_col3\" class=\"data row10 col3\" >0.039443</td>\n",
       "      <td id=\"T_87f9c_row10_col4\" class=\"data row10 col4\" >0.655243</td>\n",
       "      <td id=\"T_87f9c_row10_col5\" class=\"data row10 col5\" >0.661640</td>\n",
       "      <td id=\"T_87f9c_row10_col6\" class=\"data row10 col6\" >0.037813</td>\n",
       "      <td id=\"T_87f9c_row10_col7\" class=\"data row10 col7\" >1.000000</td>\n",
       "      <td id=\"T_87f9c_row10_col8\" class=\"data row10 col8\" >0.215722</td>\n",
       "      <td id=\"T_87f9c_row10_col9\" class=\"data row10 col9\" >0.388641</td>\n",
       "      <td id=\"T_87f9c_row10_col10\" class=\"data row10 col10\" >1.000000</td>\n",
       "      <td id=\"T_87f9c_row10_col11\" class=\"data row10 col11\" >0.970166</td>\n",
       "    </tr>\n",
       "    <tr>\n",
       "      <th id=\"T_87f9c_level0_row11\" class=\"row_heading level0 row11\" >MJD</th>\n",
       "      <td id=\"T_87f9c_row11_col0\" class=\"data row11 col0\" >0.019943</td>\n",
       "      <td id=\"T_87f9c_row11_col1\" class=\"data row11 col1\" >0.107333</td>\n",
       "      <td id=\"T_87f9c_row11_col2\" class=\"data row11 col2\" >0.031997</td>\n",
       "      <td id=\"T_87f9c_row11_col3\" class=\"data row11 col3\" >0.040274</td>\n",
       "      <td id=\"T_87f9c_row11_col4\" class=\"data row11 col4\" >0.671180</td>\n",
       "      <td id=\"T_87f9c_row11_col5\" class=\"data row11 col5\" >0.672523</td>\n",
       "      <td id=\"T_87f9c_row11_col6\" class=\"data row11 col6\" >0.037469</td>\n",
       "      <td id=\"T_87f9c_row11_col7\" class=\"data row11 col7\" >0.970167</td>\n",
       "      <td id=\"T_87f9c_row11_col8\" class=\"data row11 col8\" >0.207262</td>\n",
       "      <td id=\"T_87f9c_row11_col9\" class=\"data row11 col9\" >0.387109</td>\n",
       "      <td id=\"T_87f9c_row11_col10\" class=\"data row11 col10\" >0.970166</td>\n",
       "      <td id=\"T_87f9c_row11_col11\" class=\"data row11 col11\" >1.000000</td>\n",
       "    </tr>\n",
       "  </tbody>\n",
       "</table>\n"
      ],
      "text/plain": [
       "<pandas.io.formats.style.Styler at 0x7fb9d8573f70>"
      ]
     },
     "metadata": {},
     "output_type": "display_data"
    },
    {
     "name": "stdout",
     "output_type": "stream",
     "text": [
      "alpha          0\n",
      "delta          0\n",
      "u              0\n",
      "g              0\n",
      "r              0\n",
      "i              0\n",
      "z              0\n",
      "spec_obj_ID    0\n",
      "class          0\n",
      "redshift       0\n",
      "plate          0\n",
      "MJD            0\n",
      "dtype: int64\n"
     ]
    },
    {
     "data": {
      "text/plain": [
       "<Figure size 720x576 with 0 Axes>"
      ]
     },
     "metadata": {},
     "output_type": "display_data"
    }
   ],
   "source": [
    "display(df.corr().style.background_gradient(cmap='coolwarm',axis = None))\n",
    "plt.figure(figsize=(10, 8))\n",
    "print(df.isnull().sum())\n"
   ]
  },
  {
   "cell_type": "markdown",
   "id": "a8b93c35",
   "metadata": {},
   "source": [
    "Bu kod, bir veri setindeki sayısal özellikler arasındaki ilişkileri inceleyerek korelasyon matrisini hesaplar ve ardından renk gradyanlarıyla görselleştirir. Ayrıca, veri setindeki her bir sütunda bulunan eksik değerlerin sayısını gösterir. Bu işlemler, veri setinin genel özelliklerini anlamak ve eksik değerlerin tespit edilmesi için kullanılır."
   ]
  },
  {
   "cell_type": "markdown",
   "id": "ed3573ad",
   "metadata": {},
   "source": [
    "# Makine Öğrenmesi"
   ]
  },
  {
   "cell_type": "code",
   "execution_count": 12,
   "id": "5eb42097",
   "metadata": {},
   "outputs": [],
   "source": [
    "from sklearn.neighbors import LocalOutlierFactor\n",
    "from sklearn.preprocessing import LabelEncoder, StandardScaler\n",
    "from sklearn.model_selection import train_test_split,GridSearchCV,cross_val_score, StratifiedKFold"
   ]
  },
  {
   "cell_type": "code",
   "execution_count": 36,
   "id": "25d7648e",
   "metadata": {},
   "outputs": [],
   "source": [
    "from sklearn.model_selection import train_test_split\n",
    "from sklearn.preprocessing import StandardScaler\n",
    "from sklearn.linear_model import LogisticRegression\n",
    "from sklearn.model_selection import cross_val_score\n",
    "from sklearn.tree import DecisionTreeClassifier\n",
    "from sklearn.ensemble import RandomForestClassifier\n",
    "from sklearn import tree\n",
    "from sklearn.metrics import mean_absolute_error, mean_squared_error, r2_score\n",
    "from sklearn.metrics import confusion_matrix, classification_report\n",
    "from tabulate import tabulate\n",
    "from imblearn.over_sampling import SMOTE, RandomOverSampler\n",
    "from sklearn.model_selection import RandomizedSearchCV, train_test_split"
   ]
  },
  {
   "cell_type": "code",
   "execution_count": 34,
   "id": "70f4f8a1",
   "metadata": {},
   "outputs": [],
   "source": [
    "from sklearn.metrics import accuracy_score\n",
    "from sklearn.metrics import precision_score\n",
    "from sklearn.metrics import recall_score\n",
    "from sklearn.metrics import f1_score\n",
    "from sklearn.metrics import r2_score\n",
    "from sklearn.metrics import matthews_corrcoef\n",
    "from scipy.stats import randint"
   ]
  },
  {
   "cell_type": "code",
   "execution_count": 15,
   "id": "337fb2f9",
   "metadata": {},
   "outputs": [],
   "source": [
    "X = df.drop('class',axis=1)\n",
    "Y = df['class']"
   ]
  },
  {
   "cell_type": "markdown",
   "id": "4b31ffab",
   "metadata": {},
   "source": [
    "df'den \"class\" sütununu çıkararak X adında yeni bir DataFrame oluşturur. Daha sonra, \"class\" sütununu Y adında bir Seri olarak seçer.\n",
    "\n",
    "Şu adımları gerçekleştirir:\n",
    " \n",
    "<span style=\"font-size:larger;\"> **df.drop('class', axis=1):** <span style=\"font-size:smaller;\"> DataFrame içindeki \"class\" sütununu (axis=1 ile belirtilir) çıkarır ve geriye kalan sütunları içeren yeni bir DataFrame olan X oluşturur. Yani, X, \"class\" sütununu içermeyen df'den türetilir.\n",
    "df['class']: \"class\" sütununu seçer ve bu sütunu Y olarak atar. Yani, Y, orijinal DataFrame olan df'in \"class\" sütununu temsil eder."
   ]
  },
  {
   "cell_type": "code",
   "execution_count": 16,
   "id": "23e7b9c4",
   "metadata": {},
   "outputs": [
    {
     "name": "stdout",
     "output_type": "stream",
     "text": [
      "(100000, 11)\n",
      "(100000,)\n"
     ]
    }
   ],
   "source": [
    "X_train, X_test, Y_train, Y_test = train_test_split(X,Y, test_size=0.2, random_state=0)\n",
    "print(X.shape)\n",
    "print(Y.shape)"
   ]
  },
  {
   "cell_type": "markdown",
   "id": "186db2e6",
   "metadata": {},
   "source": [
    "Eğitim ve test verilerini ayırmak için bu kodu kullandım.\n",
    "\n",
    "<span style=\"font-size:larger;\"> **train_test_split(X, Y, test_size=0.2, random_state=0):** <span style=\"font-size:smaller;\">  Bu fonksiyon, girdi veri kümesini (X) ve hedef değişkenini (Y) alır ve bunları belirtilen test boyutuna göre eğitim ve test setlerine böler. test_size=0.2 parametresi, test setinin oranını belirtir; burada, veri setinin %20'si test seti olarak ayrılır. random_state=0 parametresi, bölme işleminin tekrarlanabilirliğini sağlar, yani her çalıştırıldığında aynı bölme yapılır."
   ]
  },
  {
   "cell_type": "code",
   "execution_count": 17,
   "id": "e3f3d132",
   "metadata": {},
   "outputs": [
    {
     "name": "stdout",
     "output_type": "stream",
     "text": [
      "Model results:\n",
      "Random Forest: 0.978875\n",
      "Logistic regression: 0.9557625\n",
      "Decision tree: 0.9653749999999999\n",
      "\n",
      "The best model is: Random Forest\n"
     ]
    }
   ],
   "source": [
    "def best_model(X, Y, models):\n",
    "    results = {}\n",
    "    for number, model in models.items():\n",
    "      if number == 'Logistic regression':\n",
    "        scaler = StandardScaler()\n",
    "        X = scaler.fit_transform(X)\n",
    "      scores = cross_val_score(model, X, Y, cv=5, scoring='accuracy')\n",
    "      results[number] = scores.mean()\n",
    "\n",
    "    best = max(results, key=results.get)\n",
    "    return best, results\n",
    "\n",
    "models = {\n",
    "    'Random Forest': RandomForestClassifier(),\n",
    "    'Logistic regression': LogisticRegression(max_iter=1000),\n",
    "    'Decision tree': DecisionTreeClassifier()\n",
    "}\n",
    "\n",
    "best, results = best_model(X_train, Y_train, models)\n",
    "\n",
    "print(\"Model results:\")\n",
    "for model, score in results.items():\n",
    "    print(f\"{model}: {score}\")\n",
    "\n",
    "print(f\"\\nThe best model is: {best}\")"
   ]
  },
  {
   "cell_type": "markdown",
   "id": "63b10d79",
   "metadata": {},
   "source": [
    "En iyi modelin Random Forrest olduğunu gösteriyor."
   ]
  },
  {
   "cell_type": "markdown",
   "id": "9d9d71f0",
   "metadata": {},
   "source": [
    "# Random Forest Classifier"
   ]
  },
  {
   "cell_type": "markdown",
   "id": "53d72763",
   "metadata": {},
   "source": [
    "***Random Forest***, ensemble öğrenme yöntemlerinden biridir ve genellikle sınıflandırma ve regresyon problemlerinde kullanılır. Random Forest, birden çok karar ağacını (decision tree) kullanarak bir model oluşturur ve bu ağaçların tahminlerini bir araya getirerek daha güçlü ve stabil bir tahmin sağlar."
   ]
  },
  {
   "cell_type": "code",
   "execution_count": 18,
   "id": "5004abbe",
   "metadata": {},
   "outputs": [
    {
     "data": {
      "text/plain": [
       "RandomForestClassifier(max_depth=2, random_state=0)"
      ]
     },
     "execution_count": 18,
     "metadata": {},
     "output_type": "execute_result"
    }
   ],
   "source": [
    "clf = RandomForestClassifier(max_depth=2, random_state=0)\n",
    "clf.fit(X_train,Y_train)"
   ]
  },
  {
   "cell_type": "markdown",
   "id": "7ff411f3",
   "metadata": {},
   "source": [
    "Bu kod, scikit-learn kütüphanesinden RandomForestClassifier sınıfını kullanarak bir rastgele orman sınıflandırıcı modeli oluşturur ve eğitir.\n",
    "\n",
    " <span style=\"font-size:larger;\"> ***RandomForestClassifier(max_depth=2, random_state=0) :*** <span style=\"font-size:smaller;\">  Bu satır, RandomForestClassifier sınıfından bir model oluşturur. max_depth parametresi, her bir karar ağacının maksimum derinliğini belirler. Burada, her bir ağaç en fazla 2 seviye derinliğe sahip olacaktır. random_state parametresi, rastgele sayı üreteci için bir tohum değerini belirler, böylece modelin tekrarlanabilir olmasını sağlar."
   ]
  },
  {
   "cell_type": "code",
   "execution_count": 19,
   "id": "fe6bdae9",
   "metadata": {},
   "outputs": [
    {
     "data": {
      "text/plain": [
       "array([0, 2, 0, ..., 0, 0, 1])"
      ]
     },
     "execution_count": 19,
     "metadata": {},
     "output_type": "execute_result"
    }
   ],
   "source": [
    "Y_pred = clf.predict(X_test)\n",
    "Y_pred"
   ]
  },
  {
   "cell_type": "markdown",
   "id": "db04feeb",
   "metadata": {},
   "source": [
    "<span style=\"font-size:larger;\"> ***clf.predict(X_test) :*** <span style=\"font-size:smaller;\"> Bu satır, clf adlı bir sınıflandırıcı modelini kullanarak X_test veri seti üzerinde tahminler yapar. X_test, test veri setindeki özellikleri içerir. Model, bu özellikleri kullanarak her bir veri noktasının sınıfını tahmin eder.\n",
    "Y_pred: Bu tahminler, Y_pred adlı bir dizi olarak saklanır. Her bir tahmin, test veri setindeki bir örneğin sınıfını temsil eder. Yani, Y_pred dizisi, modelin test veri seti üzerindeki sınıf tahminlerini içerir."
   ]
  },
  {
   "cell_type": "code",
   "execution_count": 25,
   "id": "addf784d",
   "metadata": {},
   "outputs": [
    {
     "name": "stdout",
     "output_type": "stream",
     "text": [
      "Train set score (Accuracy) = 0.8915\n",
      "Test set score (Accuracy) = 0.8928\n",
      "              precision    recall  f1-score   support\n",
      "\n",
      "           0       0.86      0.98      0.92     11851\n",
      "           1       0.98      0.95      0.96      4314\n",
      "           2       0.93      0.57      0.70      3835\n",
      "\n",
      "    accuracy                           0.89     20000\n",
      "   macro avg       0.92      0.83      0.86     20000\n",
      "weighted avg       0.90      0.89      0.89     20000\n",
      "\n"
     ]
    },
    {
     "data": {
      "image/png": "[encoded data removed]",
      "text/plain": [
       "<Figure size 432x288 with 2 Axes>"
      ]
     },
     "metadata": {
      "needs_background": "light"
     },
     "output_type": "display_data"
    }
   ],
   "source": [
    "print(\"Train set score (Accuracy) =\", clf.score(X_train, Y_train).round(4))\n",
    "print(\"Test set score (Accuracy) =\", clf.score(X_test, Y_test).round(4))\n",
    "\n",
    "\n",
    "print(classification_report(Y_test, clf.predict(X_test)))\n",
    "from sklearn.metrics import ConfusionMatrixDisplay\n",
    "ConfusionMatrixDisplay.from_predictions(Y_test, Y_pred)\n",
    "plt.show()"
   ]
  },
  {
   "cell_type": "markdown",
   "id": "9bd135bc",
   "metadata": {},
   "source": [
    "* <span style=\"font-size:larger;\"> ***precision :*** <span style=\"font-size:smaller;\"> Bu, bir sınıfın tüm tahmin edilen pozitifler arasındaki doğru pozitiflerin oranını ifade eder. Yani, bir sınıfa ait olarak tahmin edilen örneklerin ne kadarının gerçekten o sınıfa ait olduğunu gösterir.\n",
    "* <span style=\"font-size:larger;\"> ***recall :*** <span style=\"font-size:smaller;\"> Bu, bir sınıfa ait tüm gerçek pozitifler arasındaki doğru pozitiflerin oranını ifade eder. Yani, bir sınıfa ait tüm gerçek örneklerin ne kadarının doğru bir şekilde tahmin edildiğini gösterir.\n",
    "* <span style=\"font-size:larger;\"> ***f1-score :*** <span style=\"font-size:smaller;\"> Bu, \"precision\" ve \"recall\" metriklerinin harmonik ortalamasını ifade eder. Düşük \"precision\" ve \"recall\" değerlerine sahip bir model, düşük bir f1-score'a sahip olabilir, çünkü bu iki metrik arasındaki dengesizliği gösterir.\n",
    "* <span style=\"font-size:larger;\"> ***support :*** <span style=\"font-size:smaller;\">  Bu, her bir sınıf için test veri setinde bulunan örnek sayısını ifade eder.\n",
    "* <span style=\"font-size:larger;\"> ***accuracy :*** <span style=\"font-size:smaller;\">  Bu, doğru olarak sınıflandırılan örneklerin toplam örnek sayısına oranını ifade eder. Yani, doğru tahmin edilen örneklerin toplam örnek sayısına oranını ifade eder.\n",
    "* <span style=\"font-size:larger;\"> ***macro avg :*** <span style=\"font-size:smaller;\">  Bu, tüm sınıfların metriklerinin aritmetik ortalamasını ifade eder. Her sınıfın ağırlığının eşit olduğu varsayılır.\n",
    "* <span style=\"font-size:larger;\"> ***weighted avg :*** <span style=\"font-size:smaller;\"> Bu, tüm sınıfların metriklerinin ağırlıklı ortalamasını ifade eder. Her bir sınıfın örnek sayısına göre ağırlıklıdır."
   ]
  },
  {
   "cell_type": "markdown",
   "id": "39871583",
   "metadata": {},
   "source": [
    "## Random Forest İçin Sonuçlar"
   ]
  },
  {
   "cell_type": "markdown",
   "id": "1bfe19ab",
   "metadata": {},
   "source": [
    "* Modelimizin train seti doğruluk oranı 0.8915 ve test seti doğruluk oranı 0.8928 olarak belirlenmiştir, bu da modelin verilere iyi bir şekilde genelleştirme yeteneğine sahip olduğunu göstermektedir.\n",
    " \n",
    "* Sınıf 0 (Galaksi) için precision ve recall sırasıyla 0.86 ve 0.98 olarak yüksek bulunmuştur, ancak sınıf 2 (Kuasar) için bu değerler 0.93 ve 0.57 olarak belirlenmiştir, modelin sınıf 2'yi diğerlerine göre daha zor sınıflandırdığını göstermektedir.\n",
    " \n",
    "* Sınıf 1 (Yıldız) için yüksek bir precision değeri (0.98) elde edilmiş olmasına rağmen, recall değeri biraz daha düşük olarak belirlenmiştir (0.95), bu da modelin bazı sınıf 1 örneklerini kaçırdığını göstermektedir.\n",
    " \n",
    "* F1-score değerleri genel olarak yüksek bulunmuş olup, sınıf 2'nin düşük recall değeri modelin sınıflar arasında dengesizlik olduğunu göstermektedir.\n",
    " \n",
    "* Sonuç olarak, modelimiz genel olarak iyi bir performans sergilemiştir ancak özellikle sınıf 2'nin sınıflandırılmasında iyileştirmeler yapılması gerekmektedir. "
   ]
  },
  {
   "cell_type": "markdown",
   "id": "a261b723",
   "metadata": {},
   "source": [
    "# Random Forest İçin Hiperparametre Optimizasyonu"
   ]
  },
  {
   "cell_type": "markdown",
   "id": "57d7e03b",
   "metadata": {},
   "source": [
    "## Hiperparametre Optimizasyonu"
   ]
  },
  {
   "cell_type": "markdown",
   "id": "b0c377e8",
   "metadata": {},
   "source": [
    "Hiperparametre optimizasyonu, makine öğrenimi algoritmalarında kullanılan hiperparametrelerin en iyi değerlerini bulma sürecidir. Hiperparametreler, modelin yapılandırılmasını ve eğitim sürecini kontrol eden ayarlar ve parametrelerdir. Genellikle modelin performansını etkilerler.\n",
    "\n",
    "Hiperparametre optimizasyonu, genellikle bir arama stratejisi kullanılarak yapılır. Bu stratejilerden bazıları:\n",
    "\n"
   ]
  },
  {
   "cell_type": "markdown",
   "id": "7e3491ac",
   "metadata": {},
   "source": [
    "* Grid Search: Belirli bir hiperparametre aralığını belirleyip, bu aralık içinde tüm kombinasyonları deneyerek en iyi performansı sağlayan hiperparametre setini bulma yöntemidir. Grid search, tüm kombinasyonları sistemli bir şekilde deneyerek arama yapar.\n",
    "* Randomized Search: Grid search'e kıyasla daha etkili bir arama stratejisidir. Belirli bir hiperparametre aralığını belirler ve bu aralık içinden rastgele örnekler seçerek denemeler yapar. Bu, daha az hesaplama maliyetiyle daha iyi sonuçlar elde etmeyi sağlar.\n",
    "* Bayesian Optimization: Geçmiş denemelerden elde edilen bilgilere dayanarak gelecekteki denemeleri yönlendiren bir optimize edici yaklaşımdır. Bu yöntem, daha az denemeyle daha iyi sonuçlar elde etmeyi amaçlar."
   ]
  },
  {
   "cell_type": "code",
   "execution_count": 41,
   "id": "cc9cc27d",
   "metadata": {},
   "outputs": [
    {
     "name": "stdout",
     "output_type": "stream",
     "text": [
      "En iyi parametreler: {'bootstrap': True, 'max_depth': 30, 'max_features': 'sqrt', 'min_samples_leaf': 3, 'min_samples_split': 5, 'n_estimators': 40}\n",
      "En iyi model: RandomForestClassifier(max_depth=30, max_features='sqrt', min_samples_leaf=3,\n",
      "                       min_samples_split=5, n_estimators=40)\n",
      "Test seti doğruluğu: 0.97805\n"
     ]
    }
   ],
   "source": [
    "rf_clf = RandomForestClassifier()\n",
    "\n",
    "\n",
    "param_dist = {\n",
    "    'n_estimators':(10, 200,40),\n",
    "    'max_features': ['auto', 'sqrt', 'log2'],\n",
    "    'max_depth': (1,100,30),\n",
    "    'min_samples_split': randint(2, 10),\n",
    "    'min_samples_leaf': randint(1, 10),\n",
    "    'bootstrap': [True, False]\n",
    "}\n",
    "\n",
    "random_search = RandomizedSearchCV(rf_clf, param_distributions=param_dist, n_iter=6, cv=3, scoring='accuracy', random_state=42)\n",
    "random_search.fit(X_train, Y_train)\n",
    "\n",
    "print(\"En iyi parametreler:\", random_search.best_params_)\n",
    "print(\"En iyi model:\", random_search.best_estimator_)\n",
    "\n",
    "y_pred = random_search.predict(X_test)\n",
    "accuracy = accuracy_score(Y_test, y_pred)\n",
    "print(\"Test seti doğruluğu:\", accuracy)"
   ]
  },
  {
   "cell_type": "markdown",
   "id": "cc54c258",
   "metadata": {},
   "source": [
    "***n_estimators:*** Random Forest'de kullanılacak ağaç sayısıdır. Burada, 10 ile 200 arasında rastgele bir sayı seçilir.\n",
    "\n",
    "***max_features:*** Her bir ağaçta kullanılacak maksimum özellik sayısıdır. ['auto', 'sqrt', 'log2'] değerlerinden biri seçilir. 'auto' seçeneği, özelliklerin tümünü kullanırken, 'sqrt' seçeneği karekökünü ve 'log2' seçeneği ise logaritmasını alır.\n",
    "\n",
    "***max_depth:*** Her bir ağacın maksimum derinliğini belirtir. None seçeneği, ağaçların maksimum derinlik kısıtlaması olmadan büyümesine izin verir.\n",
    "\n",
    "***min_samples_split:*** Bir düğümün bölünmesi için gerekli minimum örnek sayısını belirtir. 2 ile 10 arasında rastgele bir sayı seçilir.\n",
    "\n",
    "***min_samples_leaf:*** Bir yaprak düğümünde olması gereken minimum örnek sayısını belirtir. 1 ile 10 arasında rastgele bir sayı seçilir.\n",
    "\n",
    "***bootstrap:*** Veri setinin rastgele alt kümelerinin oluşturulup oluşturulmayacağını belirtir. True ise bootstrap örnekleme yapılır, False ise bootstrap yapılmaz.\n"
   ]
  },
  {
   "cell_type": "markdown",
   "id": "ab61ba9a",
   "metadata": {},
   "source": [
    "# SONUÇ"
   ]
  },
  {
   "cell_type": "markdown",
   "id": "edcc70b4",
   "metadata": {},
   "source": [
    "Random Forest yaptığımda test seti doğruluğum 0.89 çıkmıştı bunun üzerine hiperparametre optimizasyonu yaptığımda bu sonuç 0.97'ye kadar yükseldi. Bu benim için olumlu bir sonuç"
   ]
  },
  {
   "cell_type": "markdown",
   "id": "05d51b07",
   "metadata": {},
   "source": [
    "En başta kıyasladığım 3 sınıflama dışında bir de Bagging Classifier yapmak istedim ve daha iyi bir sonuç elde ettim bundan sonraki bölümde görünüyor."
   ]
  },
  {
   "cell_type": "markdown",
   "id": "7ca994a5",
   "metadata": {},
   "source": [
    "# Bagging Classifier"
   ]
  },
  {
   "cell_type": "markdown",
   "id": "9cc8f7c6",
   "metadata": {},
   "source": [
    "***Bagging (Bootstrap Aggregating)***, ensemble öğrenme yöntemlerinden biridir ve genellikle sınıflandırma problemleri için kullanılır. Bagging Classifier, birden çok temel modelin (genellikle karar ağaçları) bir araya getirilmesiyle bir model oluşturur. Bu temel modeller, rastgele alt kümeler üzerinde eğitilir ve ardından tahminlerin bir araya getirilerek genellenebilir bir model elde edilir."
   ]
  },
  {
   "cell_type": "code",
   "execution_count": 22,
   "id": "0beef48b",
   "metadata": {},
   "outputs": [],
   "source": [
    "from sklearn.ensemble import BaggingClassifier\n",
    "clf2 = BaggingClassifier().fit(X_train,Y_train)"
   ]
  },
  {
   "cell_type": "code",
   "execution_count": 23,
   "id": "c75ca00d",
   "metadata": {},
   "outputs": [],
   "source": [
    "Y_pred2 = clf2.predict(X_test)"
   ]
  },
  {
   "cell_type": "code",
   "execution_count": 31,
   "id": "bbccd937",
   "metadata": {},
   "outputs": [
    {
     "name": "stdout",
     "output_type": "stream",
     "text": [
      "Train set score (Accuracy) = 0.9975\n",
      "Test set score (Accuracy) = 0.977\n",
      "              precision    recall  f1-score   support\n",
      "\n",
      "           0       0.98      0.99      0.98     11851\n",
      "           1       1.00      1.00      1.00      4314\n",
      "           2       0.96      0.92      0.94      3835\n",
      "\n",
      "    accuracy                           0.98     20000\n",
      "   macro avg       0.98      0.97      0.97     20000\n",
      "weighted avg       0.98      0.98      0.98     20000\n",
      "\n"
     ]
    },
    {
     "name": "stderr",
     "output_type": "stream",
     "text": [
      "/opt/anaconda3/lib/python3.9/site-packages/sklearn/utils/deprecation.py:87: FutureWarning: Function plot_confusion_matrix is deprecated; Function `plot_confusion_matrix` is deprecated in 1.0 and will be removed in 1.2. Use one of the class methods: ConfusionMatrixDisplay.from_predictions or ConfusionMatrixDisplay.from_estimator.\n",
      "  warnings.warn(msg, category=FutureWarning)\n"
     ]
    },
    {
     "data": {
      "image/png": "[encoded data removed]",
      "text/plain": [
       "<Figure size 432x288 with 2 Axes>"
      ]
     },
     "metadata": {
      "needs_background": "light"
     },
     "output_type": "display_data"
    }
   ],
   "source": [
    "from sklearn.metrics import plot_confusion_matrix\n",
    "print(\"Train set score (Accuracy) =\", clf2.score(X_train, Y_train).round(4))\n",
    "print(\"Test set score (Accuracy) =\", clf2.score(X_test, Y_test).round(4))\n",
    "\n",
    "Y_pred2 = clf2.predict(X_test)\n",
    "print (classification_report (Y_test, Y_pred2))\n",
    "plot_confusion_matrix(clf2, X_test, Y_test);"
   ]
  },
  {
   "cell_type": "markdown",
   "id": "15573386",
   "metadata": {},
   "source": [
    "## Bagging Classifier İçin Sonuçlar"
   ]
  },
  {
   "cell_type": "markdown",
   "id": "5dbdfdcb",
   "metadata": {},
   "source": [
    "* Sınıf 0 (Galaksi) için precision ve recall değerlerinin yüksek olduğunu görüyoruz (sırasıyla 0.98 ve 0.99). Bu, modelin sınıf 0'ı neredeyse mükemmel bir şekilde sınıflandırdığını gösteriyor.\n",
    "* Sınıf 1 (Yıldız) için precision ve recall değerleri her ikisi de mükemmel olarak hesaplanmış (1.00). Bu, modelin sınıf 1'i mükemmel bir şekilde sınıflandırdığını gösteriyor.\n",
    "* Sınıf 2 (Kuasar) için precision değeri yüksek (0.96), ancak recall değeri biraz daha düşüktür (0.92). Bu, modelin sınıf 2'yi iyi bir şekilde sınıflandırdığını ancak bazı örnekleri kaçırdığını gösteriyor."
   ]
  },
  {
   "cell_type": "markdown",
   "id": "b2e8bb22",
   "metadata": {},
   "source": [
    "#  Model Testi"
   ]
  },
  {
   "cell_type": "markdown",
   "id": "a7e73c92",
   "metadata": {},
   "source": [
    "Modelimi test etmek için literatürde bulunan galaksi, yıldız ve kuasarlardan birer tane seçtim ve testini yaptım"
   ]
  },
  {
   "cell_type": "markdown",
   "id": "695f0be6",
   "metadata": {},
   "source": [
    "## Aldebaran Star"
   ]
  },
  {
   "cell_type": "code",
   "execution_count": 46,
   "id": "848789cb",
   "metadata": {},
   "outputs": [
    {
     "data": {
      "text/html": [
       "<div>\n",
       "<style scoped>\n",
       "    .dataframe tbody tr th:only-of-type {\n",
       "        vertical-align: middle;\n",
       "    }\n",
       "\n",
       "    .dataframe tbody tr th {\n",
       "        vertical-align: top;\n",
       "    }\n",
       "\n",
       "    .dataframe thead th {\n",
       "        text-align: right;\n",
       "    }\n",
       "</style>\n",
       "<table border=\"1\" class=\"dataframe\">\n",
       "  <thead>\n",
       "    <tr style=\"text-align: right;\">\n",
       "      <th></th>\n",
       "      <th>u</th>\n",
       "      <th>r</th>\n",
       "      <th>i</th>\n",
       "      <th>delta</th>\n",
       "      <th>alpha</th>\n",
       "      <th>redshift</th>\n",
       "    </tr>\n",
       "  </thead>\n",
       "  <tbody>\n",
       "    <tr>\n",
       "      <th>0</th>\n",
       "      <td>4.32</td>\n",
       "      <td>-0.37</td>\n",
       "      <td>-1.31</td>\n",
       "      <td>0.28</td>\n",
       "      <td>0.07</td>\n",
       "      <td>0.000181</td>\n",
       "    </tr>\n",
       "  </tbody>\n",
       "</table>\n",
       "</div>"
      ],
      "text/plain": [
       "      u     r     i  delta  alpha  redshift\n",
       "0  4.32 -0.37 -1.31   0.28   0.07  0.000181"
      ]
     },
     "execution_count": 46,
     "metadata": {},
     "output_type": "execute_result"
    }
   ],
   "source": [
    "data = {\n",
    "    'u': [4.32],\n",
    "    'r': [-0.37],\n",
    "    'i': [-1.31],\n",
    "    'delta': [0.28],\n",
    "    'alpha': [0.07],\n",
    "    'redshift' : 0.000181\n",
    "}\n",
    "\n",
    "# DataFrame oluşturma\n",
    "df_1 = pd.DataFrame(data)\n",
    "\n",
    "\n",
    "(df_1)"
   ]
  },
  {
   "cell_type": "code",
   "execution_count": 47,
   "id": "8d2918c8",
   "metadata": {},
   "outputs": [
    {
     "data": {
      "text/plain": [
       "BaggingClassifier()"
      ]
     },
     "execution_count": 47,
     "metadata": {},
     "output_type": "execute_result"
    }
   ],
   "source": [
    "X_train = df[['u', 'r', 'i', 'delta', 'alpha', 'redshift']]\n",
    "Y_train = df['class']\n",
    "\n",
    "model = BaggingClassifier()\n",
    "model.fit(X_train, Y_train)"
   ]
  },
  {
   "cell_type": "code",
   "execution_count": 49,
   "id": "ae92ed0b",
   "metadata": {},
   "outputs": [
    {
     "name": "stdout",
     "output_type": "stream",
     "text": [
      "[1]\n"
     ]
    }
   ],
   "source": [
    "X_test = df_1[['u', 'r', 'i', 'delta', 'alpha' ,'redshift']]\n",
    "prediction = model.predict(X_test)\n",
    "print(prediction)"
   ]
  },
  {
   "cell_type": "markdown",
   "id": "bf90fae7",
   "metadata": {},
   "source": [
    "Bulması gerektiği gibi yıldız değerini ifade eden 1'i buldu."
   ]
  },
  {
   "cell_type": "markdown",
   "id": "216f42c6",
   "metadata": {},
   "source": [
    "## M 90 Galaxy"
   ]
  },
  {
   "cell_type": "code",
   "execution_count": 50,
   "id": "cc622f97",
   "metadata": {},
   "outputs": [
    {
     "data": {
      "text/html": [
       "<div>\n",
       "<style scoped>\n",
       "    .dataframe tbody tr th:only-of-type {\n",
       "        vertical-align: middle;\n",
       "    }\n",
       "\n",
       "    .dataframe tbody tr th {\n",
       "        vertical-align: top;\n",
       "    }\n",
       "\n",
       "    .dataframe thead th {\n",
       "        text-align: right;\n",
       "    }\n",
       "</style>\n",
       "<table border=\"1\" class=\"dataframe\">\n",
       "  <thead>\n",
       "    <tr style=\"text-align: right;\">\n",
       "      <th></th>\n",
       "      <th>u</th>\n",
       "      <th>r</th>\n",
       "      <th>i</th>\n",
       "      <th>delta</th>\n",
       "      <th>alpha</th>\n",
       "      <th>redshift</th>\n",
       "    </tr>\n",
       "  </thead>\n",
       "  <tbody>\n",
       "    <tr>\n",
       "      <th>0</th>\n",
       "      <td>4.32</td>\n",
       "      <td>-0.37</td>\n",
       "      <td>-1.31</td>\n",
       "      <td>0.28</td>\n",
       "      <td>0.07</td>\n",
       "      <td>0.006</td>\n",
       "    </tr>\n",
       "  </tbody>\n",
       "</table>\n",
       "</div>"
      ],
      "text/plain": [
       "      u     r     i  delta  alpha  redshift\n",
       "0  4.32 -0.37 -1.31   0.28   0.07     0.006"
      ]
     },
     "execution_count": 50,
     "metadata": {},
     "output_type": "execute_result"
    }
   ],
   "source": [
    "data2 = {\n",
    "    'u': [4.32],\n",
    "    'r': [-0.37],\n",
    "    'i': [-1.31],\n",
    "    'delta': [0.28],\n",
    "    'alpha': [0.07],\n",
    "    'redshift': [0.006]\n",
    "}\n",
    "\n",
    "df_2 = pd.DataFrame(data2)\n",
    "\n",
    "df_2"
   ]
  },
  {
   "cell_type": "code",
   "execution_count": 51,
   "id": "75d29643",
   "metadata": {},
   "outputs": [
    {
     "data": {
      "text/plain": [
       "BaggingClassifier()"
      ]
     },
     "execution_count": 51,
     "metadata": {},
     "output_type": "execute_result"
    }
   ],
   "source": [
    "X_train = df[['u', 'r', 'i', 'delta', 'alpha', 'redshift']]\n",
    "Y_train = df['class']\n",
    "\n",
    "model = BaggingClassifier()\n",
    "model.fit(X_train, Y_train)"
   ]
  },
  {
   "cell_type": "code",
   "execution_count": 52,
   "id": "356d55e8",
   "metadata": {},
   "outputs": [
    {
     "name": "stdout",
     "output_type": "stream",
     "text": [
      "[0]\n"
     ]
    }
   ],
   "source": [
    "X_test = df_2[['u', 'r', 'i', 'delta', 'alpha' ,'redshift']]\n",
    "prediction = model.predict(X_test)\n",
    "print(prediction)"
   ]
  },
  {
   "cell_type": "markdown",
   "id": "18dd081a",
   "metadata": {},
   "source": [
    "Bulması gerektiği gibi galaksi değerini ifade eden 0'ı buldu"
   ]
  },
  {
   "cell_type": "markdown",
   "id": "4d221cae",
   "metadata": {},
   "source": [
    "## 3C 273 QSO"
   ]
  },
  {
   "cell_type": "code",
   "execution_count": 53,
   "id": "9c1b486f",
   "metadata": {},
   "outputs": [
    {
     "data": {
      "text/html": [
       "<div>\n",
       "<style scoped>\n",
       "    .dataframe tbody tr th:only-of-type {\n",
       "        vertical-align: middle;\n",
       "    }\n",
       "\n",
       "    .dataframe tbody tr th {\n",
       "        vertical-align: top;\n",
       "    }\n",
       "\n",
       "    .dataframe thead th {\n",
       "        text-align: right;\n",
       "    }\n",
       "</style>\n",
       "<table border=\"1\" class=\"dataframe\">\n",
       "  <thead>\n",
       "    <tr style=\"text-align: right;\">\n",
       "      <th></th>\n",
       "      <th>u</th>\n",
       "      <th>r</th>\n",
       "      <th>i</th>\n",
       "      <th>delta</th>\n",
       "      <th>alpha</th>\n",
       "      <th>redshift</th>\n",
       "    </tr>\n",
       "  </thead>\n",
       "  <tbody>\n",
       "    <tr>\n",
       "      <th>0</th>\n",
       "      <td>13.859</td>\n",
       "      <td>12.871</td>\n",
       "      <td>12.63</td>\n",
       "      <td>1.12</td>\n",
       "      <td>5.06</td>\n",
       "      <td>0.157568</td>\n",
       "    </tr>\n",
       "  </tbody>\n",
       "</table>\n",
       "</div>"
      ],
      "text/plain": [
       "        u       r      i  delta  alpha  redshift\n",
       "0  13.859  12.871  12.63   1.12   5.06  0.157568"
      ]
     },
     "execution_count": 53,
     "metadata": {},
     "output_type": "execute_result"
    }
   ],
   "source": [
    "data3 = {\n",
    "    'u': [13.859],\n",
    "    'r': [12.871],\n",
    "    'i': [12.630],\n",
    "    'delta': [1.12],\n",
    "    'alpha': [5.06],\n",
    "    'redshift' : [0.15756751]\n",
    "    \n",
    "}\n",
    "\n",
    "df_3 = pd.DataFrame(data3)\n",
    "\n",
    "df_3"
   ]
  },
  {
   "cell_type": "code",
   "execution_count": 54,
   "id": "086f944a",
   "metadata": {},
   "outputs": [
    {
     "data": {
      "text/plain": [
       "BaggingClassifier()"
      ]
     },
     "execution_count": 54,
     "metadata": {},
     "output_type": "execute_result"
    }
   ],
   "source": [
    "X_train = df[['u', 'r', 'i', 'delta', 'alpha','redshift']]\n",
    "y_train = df['class']\n",
    "\n",
    "model = BaggingClassifier()\n",
    "model.fit(X_train, y_train)"
   ]
  },
  {
   "cell_type": "code",
   "execution_count": 55,
   "id": "096f9b85",
   "metadata": {},
   "outputs": [
    {
     "name": "stdout",
     "output_type": "stream",
     "text": [
      "[2]\n"
     ]
    }
   ],
   "source": [
    "X_test = df_3[['u', 'r', 'i', 'delta', 'alpha','redshift' ]]\n",
    "prediction = model.predict(X_test)\n",
    "print(prediction)"
   ]
  },
  {
   "cell_type": "markdown",
   "id": "9d7f6a7c",
   "metadata": {},
   "source": [
    "Bulması gerektiği gibi kuasar değerini ifade eden 2'yi buldu."
   ]
  },
  {
   "cell_type": "code",
   "execution_count": null,
   "id": "07125f09",
   "metadata": {},
   "outputs": [],
   "source": []
  }
 ],
 "metadata": {
  "kernelspec": {
   "display_name": "Python 3",
   "language": "python",
   "name": "python3"
  },
  "language_info": {
   "codemirror_mode": {
    "name": "ipython",
    "version": 3
   },
   "file_extension": ".py",
   "mimetype": "text/x-python",
   "name": "python",
   "nbconvert_exporter": "python",
   "pygments_lexer": "ipython3",
   "version": "3.9.13"
  }
 },
 "nbformat": 4,
 "nbformat_minor": 5
}
